{
 "cells": [
  {
   "cell_type": "code",
   "execution_count": null,
   "id": "b872cf06-19fe-4cdc-866e-df1008cde5d9",
   "metadata": {},
   "outputs": [],
   "source": []
  }
 ],
 "metadata": {
  "kernelspec": {
   "display_name": "",
   "name": ""
  },
  "language_info": {
   "name": ""
  }
 },
 "nbformat": 4,
 "nbformat_minor": 5
}
